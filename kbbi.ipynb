{
 "cells": [
  {
   "cell_type": "code",
   "execution_count": 1,
   "metadata": {},
   "outputs": [],
   "source": [
    "import requests\n",
    "import re\n",
    "from bs4 import BeautifulSoup\n"
   ]
  },
  {
   "cell_type": "code",
   "execution_count": 11,
   "metadata": {},
   "outputs": [
    {
     "name": "stdout",
     "output_type": "stream",
     "text": [
      "n sedu; sedan; isak: tangis dan --\n",
      " a merasa sangat pilu dalam hati; susah hati: sejak kematian kedua orang tuanya ia selalu tampak --\n",
      " a menimbulkan rasa susah (pilu dan sebagainya) dalam hati; duka: peristiwa -- terjadi minggu lalu; kabar --; cerita --\n",
      "\n"
     ]
    }
   ],
   "source": [
    "url = f\"https://kbbi.kemdikbud.go.id/entri/sedih\"\n",
    "alamat = requests.get(url).text\n",
    "soup = BeautifulSoup(alamat, \"html.parser\")\n",
    "judul = soup.find(\"div\", class_=\"container body-content\")\n",
    "main_text = judul.find_all(\"li\")  # type: ignore\n",
    "TAG_RE = re.compile(r\"<[^>]+>\")\n",
    "texted = []\n",
    "for x in main_text[:-3]:\n",
    "    texted.append(TAG_RE.sub('',str(x))+'\\n')\n",
    "print(*texted)"
   ]
  }
 ],
 "metadata": {
  "kernelspec": {
   "display_name": "Python 3",
   "language": "python",
   "name": "python3"
  },
  "language_info": {
   "codemirror_mode": {
    "name": "ipython",
    "version": 3
   },
   "file_extension": ".py",
   "mimetype": "text/x-python",
   "name": "python",
   "nbconvert_exporter": "python",
   "pygments_lexer": "ipython3",
   "version": "3.11.2"
  },
  "orig_nbformat": 4,
  "vscode": {
   "interpreter": {
    "hash": "d2487fd46032cad66b601c988b7222b815a86848855c25728cf346001c3f45e2"
   }
  }
 },
 "nbformat": 4,
 "nbformat_minor": 2
}
